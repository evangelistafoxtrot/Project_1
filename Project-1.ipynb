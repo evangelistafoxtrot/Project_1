version https://git-lfs.github.com/spec/v1
oid sha256:15862b03c76df644e648c8a265645afe2fc8b88b545f73e6006cf0cf426d733c
size 554769
